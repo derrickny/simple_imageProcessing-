{
 "cells": [
  {
   "cell_type": "markdown",
   "id": "ed385c20-6029-4725-a71c-a7fcab874fec",
   "metadata": {},
   "source": [
    "### Image preprocessing\n",
    "\n",
    "**Image processing** is divided into analogue image processing and digital image processing.\n",
    "\n",
    "**Digital image processing** is the use of computer algorithms to perform image processing on digital images. It allows a much wider range of algorithms to be applied to the input data - the aim of digital image processing is to improve the image data (features) by suppressing unwanted distortions and/or enhancement of some important image features so that our AI models can benefit from this improved data to work on.\n",
    "**Are Black and White and Grayscale images the same?**\n",
    "\n",
    "Black and white (monochrome),has only two \"colors\", black (ink or toner) and white (no ink or toner). It is used for things like text, where you want everything that is a printed character to be black and the background white.\n",
    "\n",
    "Grayscale contains shades of grey and is used for reproducing images.\n",
    "\n",
    "So most of the images you see are actually grayscale."
   ]
  },
  {
   "cell_type": "code",
   "execution_count": 1,
   "id": "47e2bdae-1af9-4738-9e39-1d724c66b04f",
   "metadata": {},
   "outputs": [],
   "source": [
    "#import openCV\n",
    "import cv2"
   ]
  },
  {
   "cell_type": "code",
   "execution_count": 2,
   "id": "c8f2ec34-1ac9-4e9d-9b81-5fcc96c8ad07",
   "metadata": {},
   "outputs": [],
   "source": [
    "#store the image in a variable \n",
    "image = \"ferrari.jpg\""
   ]
  },
  {
   "cell_type": "code",
   "execution_count": 3,
   "id": "d6005a47-737c-46a3-86a9-b7a822182d5f",
   "metadata": {},
   "outputs": [],
   "source": [
    "#show the image \n",
    "#coloured(1)\n",
    "img = cv2.imread(image,1)\n",
    "\n",
    "#greyscale(black and white)(0)\n",
    "#img = cv2.imread(image,0)"
   ]
  },
  {
   "cell_type": "code",
   "execution_count": 4,
   "id": "0a067a86-46d2-4e08-a0e4-5a4cb1f74e24",
   "metadata": {},
   "outputs": [
    {
     "data": {
      "text/plain": [
       "(4497, 3598, 3)"
      ]
     },
     "execution_count": 4,
     "metadata": {},
     "output_type": "execute_result"
    }
   ],
   "source": [
    "#image shape and resolution \n",
    "img.shape"
   ]
  },
  {
   "cell_type": "markdown",
   "id": "b117326f-d6f2-4e51-a3b8-f8c616035e22",
   "metadata": {},
   "source": [
    "The image consists of 530 rows and 1126 colunmns the 3 number of channels show that the image is colored (RGB)"
   ]
  },
  {
   "cell_type": "code",
   "execution_count": 5,
   "id": "596fe5f0-a025-47cb-aa36-48f4059881d6",
   "metadata": {},
   "outputs": [
    {
     "data": {
      "text/plain": [
       "<function destroyAllWindows>"
      ]
     },
     "execution_count": 5,
     "metadata": {},
     "output_type": "execute_result"
    }
   ],
   "source": [
    "#show the image\n",
    "cv2.imshow(\"Ferrari\",img)\n",
    "\n",
    "#waiting for key event \n",
    "cv2.waitKey(0)\n",
    "\n",
    "#destory all windows \n",
    "cv2.destroyAllWindows"
   ]
  },
  {
   "cell_type": "code",
   "execution_count": 6,
   "id": "63858749-3542-4efc-8b15-0f3c34b1c096",
   "metadata": {},
   "outputs": [
    {
     "data": {
      "text/plain": [
       "<function destroyAllWindows>"
      ]
     },
     "execution_count": 6,
     "metadata": {},
     "output_type": "execute_result"
    }
   ],
   "source": [
    "resize_image = cv2.resize(img, (500,300))\n",
    "\n",
    "cv2.imshow(\"Ferrari\",resize_image)\n",
    "\n",
    "#waiting for key event \n",
    "cv2.waitKey(0)\n",
    "\n",
    "#destory all windows \n",
    "cv2.destroyAllWindows"
   ]
  },
  {
   "cell_type": "code",
   "execution_count": null,
   "id": "ecb92fc3-c616-4fe0-8708-e733c835c76f",
   "metadata": {},
   "outputs": [],
   "source": [
    "#Converting the coloured image to grayscale image\n",
    "grey_img = cv2.cvtColor(img,cv2.COLOR_BGR2GRAY)\n",
    "\n",
    "resize_image = cv2.resize(grey_img, (500,300))\n",
    "\n",
    "cv2.imshow(\"Ferrari Black and white\",resize_image)\n",
    "\n",
    "#waiting for key event \n",
    "cv2.waitKey(0)\n",
    "\n",
    "#destory all windows \n",
    "cv2.destroyAllWindows"
   ]
  },
  {
   "cell_type": "code",
   "execution_count": null,
   "id": "929adc93-0610-48ba-aca3-85ca3890c613",
   "metadata": {},
   "outputs": [],
   "source": []
  },
  {
   "cell_type": "code",
   "execution_count": null,
   "id": "efadb6ac-5208-4763-b0f2-589b8fe5b979",
   "metadata": {},
   "outputs": [],
   "source": []
  }
 ],
 "metadata": {
  "kernelspec": {
   "display_name": "Python 3 (ipykernel)",
   "language": "python",
   "name": "python3"
  },
  "language_info": {
   "codemirror_mode": {
    "name": "ipython",
    "version": 3
   },
   "file_extension": ".py",
   "mimetype": "text/x-python",
   "name": "python",
   "nbconvert_exporter": "python",
   "pygments_lexer": "ipython3",
   "version": "3.10.8"
  }
 },
 "nbformat": 4,
 "nbformat_minor": 5
}
